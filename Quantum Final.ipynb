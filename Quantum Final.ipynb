{
 "cells": [
  {
   "cell_type": "code",
   "execution_count": 1,
   "metadata": {},
   "outputs": [
    {
     "name": "stdout",
     "output_type": "stream",
     "text": [
      "2.1.0\n"
     ]
    }
   ],
   "source": [
    "import tensorflow as tf\n",
    "print(tf.__version__)\n",
    "import collections\n",
    "import cv2\n",
    "import numpy as np"
   ]
  },
  {
   "cell_type": "code",
   "execution_count": 2,
   "metadata": {},
   "outputs": [],
   "source": [
    "THRESHOLD = 0.5\n",
    "\n",
    "def filter(x, y, a=3, b=6):\n",
    "    keep = (y == a) | (y == b)\n",
    "    x, y = x[keep], y[keep]\n",
    "    y = y == a\n",
    "    return x,y\n",
    "\n",
    "\n",
    "def remove_ambiguous(xs, ys, a=3, b=6):\n",
    "    mapping = collections.defaultdict(set)\n",
    "    # Determine the set of labels for each unique image:\n",
    "    for x,y in zip(xs,ys):\n",
    "       mapping[tuple(x.flatten())].add(y)\n",
    "    \n",
    "    new_x = []\n",
    "    new_y = []\n",
    "    for x,y in zip(xs, ys):\n",
    "      labels = mapping[tuple(x.flatten())]\n",
    "      if len(labels) == 1:\n",
    "          new_x.append(x)\n",
    "          new_y.append(list(labels)[0])\n",
    "      else:\n",
    "          # Throw out images that match more than one label.\n",
    "          pass\n",
    "    \n",
    "    num_a = sum(1 for value in mapping.values() if True in value)\n",
    "    num_b = sum(1 for value in mapping.values() if False in value)\n",
    "    num_both = sum(1 for value in mapping.values() if len(value) == 2)\n",
    "\n",
    "    print(\"Number of unique images:\", len(mapping.values()))\n",
    "    print(\"Number of {}s: \".format(a), num_a)\n",
    "    print(\"Number of {}s: \".format(b), num_b)\n",
    "    print(\"Number of contradictory images: \", num_both)\n",
    "    print(\"Initial number of examples: \", len(xs))\n",
    "    print(\"Remaining non-contradictory examples: \", len(new_x))\n",
    "    print()\n",
    "    \n",
    "    return np.array(new_x), np.array(new_y)\n",
    "\n",
    "\n",
    "def get_edge(num_qubits):\n",
    "    h = int(np.sqrt(num_qubits))\n",
    "    assert h**2 == num_qubits, 'num_qubits is not a perfect square of an integer!'\n",
    "    return h"
   ]
  },
  {
   "cell_type": "code",
   "execution_count": 3,
   "metadata": {},
   "outputs": [],
   "source": [
    "(x_train, y_train), (x_test, y_test) = tf.keras.datasets.mnist.load_data()"
   ]
  },
  {
   "cell_type": "code",
   "execution_count": 5,
   "metadata": {},
   "outputs": [],
   "source": [
    "x, y = x_train, y_train\n",
    "x = x[..., np.newaxis] / 255.0\n",
    "x, y = filter(x, y, a=3, b=6)"
   ]
  },
  {
   "cell_type": "code",
   "execution_count": 6,
   "metadata": {},
   "outputs": [
    {
     "name": "stdout",
     "output_type": "stream",
     "text": [
      "Number of unique images: 193\n",
      "Number of 3s:  125\n",
      "Number of 6s:  113\n",
      "Number of contradictory images:  45\n",
      "Initial number of examples:  12049\n",
      "Remaining non-contradictory examples:  3649\n",
      "\n"
     ]
    }
   ],
   "source": [
    "x_small = tf.image.resize(x, (4, 4)).numpy()\n",
    "x_bin = np.array(x_small > THRESHOLD, dtype=np.float32)\n",
    "x_nocon, y_nocon = remove_ambiguous(x_bin, y, a=3, b=6)"
   ]
  },
  {
   "cell_type": "code",
   "execution_count": 7,
   "metadata": {},
   "outputs": [
    {
     "name": "stdout",
     "output_type": "stream",
     "text": [
      "2074\n",
      "1575\n"
     ]
    }
   ],
   "source": [
    "num_a = sum(y_nocon)\n",
    "num_b = 3649 - num_a\n",
    "print(num_a)\n",
    "print(num_b)"
   ]
  },
  {
   "cell_type": "code",
   "execution_count": 23,
   "metadata": {},
   "outputs": [],
   "source": [
    "x, y = x_test, y_test\n",
    "x = x[..., np.newaxis] / 255.0\n",
    "x, y = filter(x, y, a=3, b=6)"
   ]
  },
  {
   "cell_type": "code",
   "execution_count": 9,
   "metadata": {},
   "outputs": [
    {
     "name": "stdout",
     "output_type": "stream",
     "text": [
      "Number of unique images: 115\n",
      "Number of 3s:  65\n",
      "Number of 6s:  72\n",
      "Number of contradictory images:  22\n",
      "Initial number of examples:  1968\n",
      "Remaining non-contradictory examples:  890\n",
      "\n"
     ]
    }
   ],
   "source": [
    "x_small = tf.image.resize(x, (4, 4)).numpy()\n",
    "x_bin = np.array(x_small > THRESHOLD, dtype=np.float32)\n",
    "x_nocon, y_nocon = remove_ambiguous(x_bin, y, a=3, b=6)"
   ]
  },
  {
   "cell_type": "code",
   "execution_count": 22,
   "metadata": {},
   "outputs": [
    {
     "name": "stdout",
     "output_type": "stream",
     "text": [
      "332\n",
      "558\n"
     ]
    }
   ],
   "source": [
    "num_a = sum(y_nocon)\n",
    "num_b = 890 - num_a\n",
    "print(num_a)\n",
    "print(num_b)"
   ]
  },
  {
   "cell_type": "code",
   "execution_count": 20,
   "metadata": {},
   "outputs": [
    {
     "name": "stdout",
     "output_type": "stream",
     "text": [
      "Saved to /home/ndong/Desktop/QDA/train_loss.png\n",
      "Saved to /home/ndong/Desktop/QDA/train_acc.png\n",
      "Saved to /home/ndong/Desktop/QDA/test_acc.png\n"
     ]
    }
   ],
   "source": [
    "import os\n",
    "import matplotlib.pyplot as plt\n",
    "import numpy as np\n",
    "\n",
    "import matplotlib.font_manager as font_manager\n",
    "\n",
    "path = '/home/ndong/Desktop/ubuntu-font-family/Ubuntu-R.ttf'\n",
    "prop = font_manager.FontProperties(fname=path, size=36)\n",
    "\n",
    "def line_plot(series, output_path, series_names=['DNN', 'QNN'], title=None,\n",
    "    ymin=0, ymax=1, legend_loc=\"best\", legend_ncols=1,\n",
    "    x_label=\"Number of Batches\", y_label=None):\n",
    "    \"\"\"\n",
    "    Plot average curves with uncertainty.\n",
    "    series: list of [num_x, num_runs+1] np.array. num_runs are averaged\n",
    "    and std. The first column is x, the rest are y points.\n",
    "    \"\"\"\n",
    "    line_colors = [\n",
    "        'b', # blue\n",
    "        'r'  # red\n",
    "        ]\n",
    "    shade_colors = [\n",
    "        \"#6fbcf7\", # light blue  \n",
    "        \"#ffcccb\"  # light red\n",
    "        ]\n",
    "\n",
    "    plt.figure(figsize=(10,8))\n",
    "    plt.style.use('ggplot')\n",
    "\n",
    "    for i, s in enumerate(series):\n",
    "        x = 10 * np.array(list(range(1, s.shape[0]+1)))\n",
    "        y = np.mean(s, axis=1)\n",
    "        std = np.std(s, axis=1)\n",
    "        plt.plot(x, y, color=line_colors[i], label=series_names[i])\n",
    "        plt.fill_between(x, y-std, y+std, alpha=0.5, facecolor=shade_colors[i], \n",
    "            linewidth=0)\n",
    "\n",
    "    plt.ylabel(y_label, fontsize=24)\n",
    "    plt.xlabel(x_label, fontsize=24)\n",
    "    \n",
    "    plt.xlim(0, s.shape[0]*10)\n",
    "    if ymax is not None:\n",
    "        plt.gca().set_ylim(top=ymax)\n",
    "    if ymin is not None:\n",
    "        plt.gca().set_ylim(bottom=ymin)\n",
    "\n",
    "    plt.tick_params(labelsize=18)\n",
    "    plt.xticks()\n",
    "\n",
    "    plt.legend(loc=legend_loc)\n",
    "    plt.legend(fontsize=24)\n",
    "\n",
    "    plt.title(title, fontsize=36, fontproperties=prop)\n",
    "\n",
    "    plt.savefig(output_path, bbox_inches='tight')\n",
    "    plt.close()\n",
    "    print('Saved to', output_path)    \n",
    "\n",
    "\n",
    "if __name__ == '__main__':\n",
    "    DNN = []\n",
    "    for i in range(1, 6):\n",
    "        dnn = np.load('/home/ndong/Desktop/QDA/Quantum/dnn_{}.npy'.format(i))\n",
    "        DNN.append(dnn)\n",
    "\n",
    "    DNN = np.array(DNN)\n",
    "    DNN = DNN.transpose([1, 2, 0])\n",
    "    dnn_train_loss = DNN[0]\n",
    "    dnn_train_acc = DNN[1]\n",
    "    dnn_test_acc = DNN[2]\n",
    "\n",
    "    QNN = []\n",
    "    for i in range(1, 4):\n",
    "        qnn = np.load('/home/ndong/Desktop/QDA/Quantum/qnn_{}.npy'.format(i))\n",
    "        QNN.append(qnn)\n",
    "\n",
    "    QNN = np.array(QNN)\n",
    "    QNN = QNN.transpose([1, 2, 0])\n",
    "    qnn_train_loss = QNN[0]\n",
    "    qnn_train_acc = QNN[1]\n",
    "    qnn_test_acc = QNN[2]\n",
    "\n",
    "    line_plot([dnn_train_loss, qnn_train_loss], '/home/ndong/Desktop/QDA/train_loss.png', \n",
    "        title=\"Train Loss\", ymax=None)\n",
    "\n",
    "    line_plot([dnn_train_acc, qnn_train_acc], '/home/ndong/Desktop/QDA/train_acc.png', \n",
    "        title=\"Train Accuracy\")\n",
    "\n",
    "    line_plot([dnn_test_acc, qnn_test_acc], '/home/ndong/Desktop/QDA/test_acc.png', \n",
    "        title=\"Test Accuracy\")"
   ]
  },
  {
   "cell_type": "code",
   "execution_count": 21,
   "metadata": {},
   "outputs": [
    {
     "name": "stdout",
     "output_type": "stream",
     "text": [
      "Saved to /home/ndong/Desktop/QDA/da_train_loss.png\n",
      "Saved to /home/ndong/Desktop/QDA/da_train_acc.png\n",
      "Saved to /home/ndong/Desktop/QDA/da_test_acc.png\n"
     ]
    }
   ],
   "source": [
    "if __name__ == '__main__':\n",
    "    DNN = []\n",
    "    for i in range(1, 6):\n",
    "        dnn = np.load('/home/ndong/Desktop/QDA/Quantum/dnn_da_{}.npy'.format(i))\n",
    "        DNN.append(dnn)\n",
    "\n",
    "    DNN = np.array(DNN)\n",
    "    DNN = DNN.transpose([1, 2, 0])\n",
    "    dnn_train_loss = DNN[0]\n",
    "    dnn_train_acc = DNN[1]\n",
    "    dnn_test_acc = DNN[2]\n",
    "\n",
    "    QNN = []\n",
    "    for i in range(1, 4):\n",
    "        qnn = np.load('/home/ndong/Desktop/QDA/Quantum/qnn_da_{}.npy'.format(i))\n",
    "        QNN.append(qnn)\n",
    "\n",
    "    QNN = np.array(QNN)\n",
    "    QNN = QNN.transpose([1, 2, 0])\n",
    "    qnn_train_loss = QNN[0]\n",
    "    qnn_train_acc = QNN[1]\n",
    "    qnn_test_acc = QNN[2]\n",
    "\n",
    "    line_plot([dnn_train_loss, qnn_train_loss], '/home/ndong/Desktop/QDA/da_train_loss.png', \n",
    "        title=\"Train Loss\", ymax=None)\n",
    "\n",
    "    line_plot([dnn_train_acc, qnn_train_acc], '/home/ndong/Desktop/QDA/da_train_acc.png', \n",
    "        title=\"Train Accuracy\")\n",
    "\n",
    "    line_plot([dnn_test_acc, qnn_test_acc], '/home/ndong/Desktop/QDA/da_test_acc.png', \n",
    "        title=\"Test Accuracy\")"
   ]
  },
  {
   "cell_type": "code",
   "execution_count": 4,
   "metadata": {},
   "outputs": [],
   "source": [
    "def visualize(imgs, arr = (2, 4), invert=False):\n",
    "    if invert:\n",
    "        imgs = 255 - imgs\n",
    "    imgs =  imgs[..., np.newaxis]\n",
    "    imgs = tf.image.resize(imgs, (28 * 3, 28 * 3)).numpy()\n",
    "    imgs = np.squeeze(imgs, axis=3)\n",
    "    num = len(imgs)\n",
    "    assert  num == arr[0] * arr[1]\n",
    "    COL = []\n",
    "    for i in range(arr[0]):\n",
    "        ROW = []\n",
    "        for j in range(arr[1]):\n",
    "            img = imgs[i * arr[1] +j]\n",
    "            ROW.append(img)\n",
    "        row = np.concatenate(ROW, axis=1)\n",
    "        COL.append(row)\n",
    "    col = np.concatenate(COL, axis=0)\n",
    "    return col"
   ]
  },
  {
   "cell_type": "code",
   "execution_count": 5,
   "metadata": {},
   "outputs": [],
   "source": [
    "x, y = filter(x_test, y_test, a=3, b=6)\n"
   ]
  },
  {
   "cell_type": "code",
   "execution_count": 10,
   "metadata": {},
   "outputs": [
    {
     "data": {
      "text/plain": [
       "True"
      ]
     },
     "execution_count": 10,
     "metadata": {},
     "output_type": "execute_result"
    }
   ],
   "source": [
    "img = visualize(x[:8])\n",
    "cv2.imwrite('/home/ndong/Desktop/QDA/source.png', img)"
   ]
  },
  {
   "cell_type": "code",
   "execution_count": 12,
   "metadata": {},
   "outputs": [
    {
     "data": {
      "text/plain": [
       "True"
      ]
     },
     "execution_count": 12,
     "metadata": {},
     "output_type": "execute_result"
    }
   ],
   "source": [
    "img = visualize(x[8:16], invert=True)\n",
    "cv2.imwrite('/home/ndong/Desktop/QDA/target.png', img)"
   ]
  },
  {
   "cell_type": "code",
   "execution_count": 8,
   "metadata": {},
   "outputs": [
    {
     "data": {
      "text/plain": [
       "12.0"
      ]
     },
     "execution_count": 8,
     "metadata": {},
     "output_type": "execute_result"
    }
   ],
   "source": [
    "336 / 28"
   ]
  },
  {
   "cell_type": "code",
   "execution_count": null,
   "metadata": {},
   "outputs": [],
   "source": []
  }
 ],
 "metadata": {
  "kernelspec": {
   "display_name": "Python 3",
   "language": "python",
   "name": "python3"
  },
  "language_info": {
   "codemirror_mode": {
    "name": "ipython",
    "version": 3
   },
   "file_extension": ".py",
   "mimetype": "text/x-python",
   "name": "python",
   "nbconvert_exporter": "python",
   "pygments_lexer": "ipython3",
   "version": "3.6.9"
  }
 },
 "nbformat": 4,
 "nbformat_minor": 4
}
